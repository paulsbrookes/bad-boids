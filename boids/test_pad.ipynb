{
 "cells": [
  {
   "cell_type": "code",
   "execution_count": 57,
   "metadata": {
    "collapsed": true
   },
   "outputs": [],
   "source": [
    "import numpy as np\n",
    "import os\n",
    "from nose.tools import assert_almost_equal, assert_true\n",
    "import yaml\n",
    "from matplotlib import pyplot as plt\n",
    "from matplotlib import animation\n",
    "import random\n",
    "import numpy as np\n",
    "import yaml\n",
    "import os"
   ]
  },
  {
   "cell_type": "code",
   "execution_count": 45,
   "metadata": {
    "collapsed": false
   },
   "outputs": [],
   "source": [
    "import yaml\n",
    "from boids import new_flock, update_boids\n",
    "from copy import deepcopy\n",
    "import numpy as np\n",
    "\n",
    "boid_count = 2\n",
    "lower_limits = np.array([-450, 50, 0, -20])\n",
    "upper_limits = np.array([100, 1000, 10, 20])\n",
    "positions = new_flock(boid_count, lower_limits[0:2], upper_limits[0:2])\n",
    "velocities = new_flock(boid_count, lower_limits[2:4], upper_limits[2:4])\n",
    "before = np.copy([positions, velocities])\n",
    "before = before.tolist()\n",
    "update_boids(positions, velocities)\n",
    "after = np.array([positions, velocities])\n",
    "after = after.tolist()\n",
    "\n",
    "fixture_file = open(\"fixture.yml\", 'r+')\n",
    "fixture_data = yaml.load(fixture_file)\n",
    "fixture_data[\"before\"] = before\n",
    "fixture_data[\"after\"] = after\n",
    "fixture_file.write(yaml.dump(fixture_data))\n",
    "fixture_file.close()"
   ]
  },
  {
   "cell_type": "code",
   "execution_count": 25,
   "metadata": {
    "collapsed": false
   },
   "outputs": [],
   "source": [
    "from boids import Flock\n",
    "import yaml\n",
    "import numpy as np\n",
    "flock = Flock()\n",
    "flock.positions = np.array([before[0], before[1]])\n",
    "flock.velocities = np.array([before[2], before[3]])\n",
    "fixture_file = open(\"original_fixture.yml\", 'r')\n",
    "fixture_data = yaml.load(fixture_file)\n",
    "before = fixture_data[\"before\"]\n",
    "fixture_file.close()"
   ]
  },
  {
   "cell_type": "code",
   "execution_count": 28,
   "metadata": {
    "collapsed": false
   },
   "outputs": [
    {
     "ename": "NameError",
     "evalue": "name '__file__' is not defined",
     "output_type": "error",
     "traceback": [
      "\u001b[1;31m---------------------------------------------------------------------------\u001b[0m",
      "\u001b[1;31mNameError\u001b[0m                                 Traceback (most recent call last)",
      "\u001b[1;32m<ipython-input-28-83920df55acc>\u001b[0m in \u001b[0;36m<module>\u001b[1;34m()\u001b[0m\n\u001b[0;32m      8\u001b[0m \u001b[1;33m\u001b[0m\u001b[0m\n\u001b[0;32m      9\u001b[0m default_params = yaml.load(\n\u001b[1;32m---> 10\u001b[1;33m         open(os.path.join(os.path.dirname(__file__), 'default_fixture.yml')))\n\u001b[0m\u001b[0;32m     11\u001b[0m \u001b[0mframes\u001b[0m \u001b[1;33m=\u001b[0m \u001b[0mdefault_params\u001b[0m\u001b[1;33m[\u001b[0m\u001b[1;34m'frames'\u001b[0m\u001b[1;33m]\u001b[0m\u001b[1;33m\u001b[0m\u001b[0m\n\u001b[0;32m     12\u001b[0m \u001b[0minterval\u001b[0m \u001b[1;33m=\u001b[0m \u001b[0mdefault_params\u001b[0m\u001b[1;33m[\u001b[0m\u001b[1;34m'interval'\u001b[0m\u001b[1;33m]\u001b[0m\u001b[1;33m\u001b[0m\u001b[0m\n",
      "\u001b[1;31mNameError\u001b[0m: name '__file__' is not defined"
     ]
    }
   ],
   "source": [
    "from matplotlib import pyplot as plt\n",
    "from matplotlib import animation\n",
    "import random\n",
    "import numpy as np\n",
    "import yaml\n",
    "import os\n",
    "from boids import Flock\n",
    "\n",
    "default_params = yaml.load(\n",
    "        open(os.path.join(os.path.dirname(__file__), 'default_fixture.yml')))\n",
    "frames = default_params['frames']\n",
    "interval = default_params['interval']\n",
    "\n",
    "flock = Flock()\n",
    "anim = animation.FuncAnimation(\n",
    " flock.figure, flock.animate, frames=frames, interval=interval)\n",
    "\n",
    "if __name__ == \"__main__\":\n",
    "    plt.show()"
   ]
  },
  {
   "cell_type": "code",
   "execution_count": 20,
   "metadata": {
    "collapsed": false
   },
   "outputs": [
    {
     "data": {
      "text/plain": [
       "array([-338.66132184, -191.10518275, -203.46020041,  -54.717558  ,\n",
       "         27.46460363, -321.03725773, -251.22872275,   70.15608646,\n",
       "         94.43083784, -301.05499367])"
      ]
     },
     "execution_count": 20,
     "metadata": {},
     "output_type": "execute_result"
    }
   ],
   "source": [
    "flock.positions[0]"
   ]
  },
  {
   "cell_type": "code",
   "execution_count": 24,
   "metadata": {
    "collapsed": false
   },
   "outputs": [],
   "source": [
    "import yaml\n",
    "from boids import new_flock, update_boids\n",
    "from copy import deepcopy\n",
    "import numpy as np\n",
    "\n",
    "boid_count = 2\n",
    "lower_limits = np.array([-450, 50, 0, -20])\n",
    "upper_limits = np.array([100, 1000, 10, 20])\n",
    "positions = new_flock(boid_count, lower_limits[0:2], upper_limits[0:2])\n",
    "velocities = new_flock(boid_count, lower_limits[2:4], upper_limits[2:4])\n",
    "before = np.copy([positions, velocities])\n",
    "before = before.tolist()\n",
    "update_boids(positions, velocities)\n",
    "after = np.array([positions, velocities])\n",
    "after = after.tolist()\n",
    "fixture = {\"before\": before, \"after\": after}\n",
    "fixture_file = open(\"fixture.yml\", 'w')\n",
    "fixture_file.write(yaml.dump(fixture))\n",
    "fixture_file.close()\n"
   ]
  },
  {
   "cell_type": "code",
   "execution_count": null,
   "metadata": {
    "collapsed": false
   },
   "outputs": [],
   "source": []
  },
  {
   "cell_type": "code",
   "execution_count": 36,
   "metadata": {
    "collapsed": false
   },
   "outputs": [],
   "source": [
    "regression_data = yaml.load(open('fixture.yml'))\n",
    "boid_data = np.array(regression_data[\"before\"])\n",
    "update_boids(boid_data[0], boid_data[1])\n",
    "for after, before in zip(regression_data[\"after\"], boid_data):\n",
    "    for after_value, before_value in zip(after, before):\n",
    "        assert_true(np.allclose(after_value, before_value, atol=0.01))"
   ]
  },
  {
   "cell_type": "code",
   "execution_count": 34,
   "metadata": {
    "collapsed": false
   },
   "outputs": [
    {
     "data": {
      "text/plain": [
       "[-421.2046143948545,\n",
       " 63.57774433801782,\n",
       " -99.20148805600903,\n",
       " -353.7875350266955,\n",
       " -253.72550743125217,\n",
       " -209.55619334329234,\n",
       " -440.20327453715805,\n",
       " -319.0300436537509,\n",
       " 22.4721330024752,\n",
       " -240.7399126478037,\n",
       " -376.5222139009571,\n",
       " -174.71307875832895,\n",
       " -20.09803143558012,\n",
       " -58.914079085707584,\n",
       " -124.26505305461195,\n",
       " -164.6687412020954,\n",
       " -270.6957413683082,\n",
       " -100.78934136399839,\n",
       " -130.15029824871905,\n",
       " -29.129134554368942,\n",
       " -98.14383501058413,\n",
       " 30.44587763252556,\n",
       " -148.00227639960414,\n",
       " -46.46493431091709,\n",
       " -363.0186097143457,\n",
       " -274.5701349257662,\n",
       " 83.9585608393166,\n",
       " -429.94750248305377,\n",
       " -83.55429755964163,\n",
       " -255.26221324515404,\n",
       " -31.739054469197562,\n",
       " -29.23470235370167,\n",
       " -204.44372567381407,\n",
       " 49.38096033491088,\n",
       " -86.44981372857224,\n",
       " -358.1236150458037,\n",
       " -265.4356150779295,\n",
       " -53.07314437315641,\n",
       " -426.77893316926423,\n",
       " 79.31848216791207,\n",
       " -434.1217624439979,\n",
       " -318.70100534843357,\n",
       " -139.75705859053895,\n",
       " -243.8324430630098,\n",
       " -262.53956986890194,\n",
       " 41.729327931934,\n",
       " -322.77411237621504,\n",
       " -153.88394583481096,\n",
       " -342.81744019621,\n",
       " -237.30384236449123]"
      ]
     },
     "execution_count": 34,
     "metadata": {},
     "output_type": "execute_result"
    }
   ],
   "source": [
    "after_value"
   ]
  },
  {
   "cell_type": "code",
   "execution_count": null,
   "metadata": {
    "collapsed": false
   },
   "outputs": [],
   "source": [
    "axes = plt.axes(xlim=(-500, 1500), ylim=(-500, 1500))"
   ]
  },
  {
   "cell_type": "code",
   "execution_count": null,
   "metadata": {
    "collapsed": false
   },
   "outputs": [],
   "source": [
    "lower_limits = np.array([-450, 50, 0, -20])\n",
    "upper_limits = np.array([100, 1000, 10, 20])"
   ]
  },
  {
   "cell_type": "code",
   "execution_count": 68,
   "metadata": {
    "collapsed": false
   },
   "outputs": [],
   "source": [
    "fixture = {\"position_limits\": [[-450, 50],[100, 1000]], \"velocity_limits\": [[0, -20],[10, 20]]}\n",
    "fixture[\"movement_params\"] = [0.01, 10, 0.125, 100]\n",
    "fixture['boid_count'] = 50\n",
    "fixture['axes_limits'] = [[-500, 1500],[-500, 1500]]\n",
    "fixture['frames'] = 50\n",
    "fixture['interval'] = 50\n",
    "fixture_file = open(\"default_fixture.yml\", 'w')\n",
    "fixture_file.write(yaml.dump(fixture))\n",
    "fixture_file.close()"
   ]
  },
  {
   "cell_type": "code",
   "execution_count": 62,
   "metadata": {
    "collapsed": false
   },
   "outputs": [],
   "source": [
    "figure = plt.figure()\n",
    "axes = plt.axes(xlim=[0,100], ylim=[0,100])\n",
    "scatter = axes.scatter([1,2,3],[3,4,3])\n",
    "plt.show()"
   ]
  },
  {
   "cell_type": "code",
   "execution_count": null,
   "metadata": {
    "collapsed": true
   },
   "outputs": [],
   "source": [
    "figure = plt.figure()\n",
    "axes = plt.axes(xlim=axes_limits[0], ylim=axes_limits[1])\n",
    "scatter = axes.scatter(positions[0], positions[1])\n",
    "\n",
    "anim = animation.FuncAnimation(figure, animate, frames=frames, interval=interval)\n",
    "\n",
    "if __name__ == \"__main__\":\n",
    "    plt.show()"
   ]
  },
  {
   "cell_type": "code",
   "execution_count": 65,
   "metadata": {
    "collapsed": false
   },
   "outputs": [],
   "source": [
    "class Fell(object):\n",
    "    def __init__(self):\n",
    "        self.a = 1\n",
    "        self.doop()\n",
    "        \n",
    "    def doop(self):\n",
    "        self.d = 4"
   ]
  },
  {
   "cell_type": "code",
   "execution_count": 27,
   "metadata": {
    "collapsed": false
   },
   "outputs": [
    {
     "name": "stdout",
     "output_type": "stream",
     "text": [
      "[ -17.45508097   15.94036279   91.96157327 -369.68354904 -172.72701229\n",
      " -385.29524556  -82.04673963 -425.89407292   26.20386672   51.1472297 ]\n",
      "[ 181.10896506  647.45698863  502.01107475  744.4164919    61.18826393\n",
      "  992.58265388  514.0595094   195.86427165  749.62402059  244.34021413]\n"
     ]
    }
   ],
   "source": [
    "for x in flock.positions:\n",
    "    print x"
   ]
  },
  {
   "cell_type": "code",
   "execution_count": 2,
   "metadata": {
    "collapsed": true
   },
   "outputs": [],
   "source": [
    "from boids import Flock\n",
    "flock = Flock()"
   ]
  },
  {
   "cell_type": "code",
   "execution_count": 16,
   "metadata": {
    "collapsed": false
   },
   "outputs": [
    {
     "ename": "SyntaxError",
     "evalue": "unexpected EOF while parsing (<ipython-input-16-f5f6e75e08a0>, line 1)",
     "output_type": "error",
     "traceback": [
      "\u001b[1;36m  File \u001b[1;32m\"<ipython-input-16-f5f6e75e08a0>\"\u001b[1;36m, line \u001b[1;32m1\u001b[0m\n\u001b[1;33m    for i in range(len(flock.positions[0])):\u001b[0m\n\u001b[1;37m                                            ^\u001b[0m\n\u001b[1;31mSyntaxError\u001b[0m\u001b[1;31m:\u001b[0m unexpected EOF while parsing\n"
     ]
    }
   ],
   "source": [
    "for i in range(len(flock.positions[0])):\n",
    "    "
   ]
  },
  {
   "cell_type": "code",
   "execution_count": 40,
   "metadata": {
    "collapsed": false
   },
   "outputs": [
    {
     "name": "stdout",
     "output_type": "stream",
     "text": [
      "(0L,) 181.108965056\n",
      "(1L,) 647.456988626\n",
      "(2L,) 502.011074753\n",
      "(3L,) 744.416491901\n",
      "(4L,) 61.188263933\n",
      "(5L,) 992.582653885\n",
      "(6L,) 514.059509397\n",
      "(7L,) 195.864271655\n",
      "(8L,) 749.624020592\n",
      "(9L,) 244.340214134\n"
     ]
    }
   ],
   "source": [
    "for i, x in np.ndenumerate(flock.positions[1,:]):\n",
    "    print i, x"
   ]
  },
  {
   "cell_type": "code",
   "execution_count": 42,
   "metadata": {
    "collapsed": false
   },
   "outputs": [
    {
     "name": "stdout",
     "output_type": "stream",
     "text": [
      "[ -17.45508097  181.10896506]\n",
      "[  15.94036279  647.45698863]\n",
      "[  91.96157327  502.01107475]\n",
      "[-369.68354904  744.4164919 ]\n",
      "[-172.72701229   61.18826393]\n",
      "[-385.29524556  992.58265388]\n",
      "[ -82.04673963  514.0595094 ]\n",
      "[-425.89407292  195.86427165]\n",
      "[  26.20386672  749.62402059]\n",
      "[  51.1472297   244.34021413]\n"
     ]
    }
   ],
   "source": [
    "for x in flock.positions.T:\n",
    "    print x"
   ]
  },
  {
   "cell_type": "code",
   "execution_count": 51,
   "metadata": {
    "collapsed": false
   },
   "outputs": [
    {
     "name": "stdout",
     "output_type": "stream",
     "text": [
      "0 [-17.45508096643431, 181.10896505621156]\n",
      "1 [15.94036278779879, 647.4569886264919]\n",
      "2 [91.96157326755906, 502.01107475286955]\n",
      "3 [-369.6835490367856, 744.416491900838]\n",
      "4 [-172.72701228636936, 61.18826393299349]\n",
      "5 [-385.29524556443766, 992.582653884923]\n",
      "6 [-82.04673962597775, 514.0595093967262]\n",
      "7 [-425.89407292032917, 195.86427165495377]\n",
      "8 [26.20386671912479, 749.6240205916752]\n",
      "9 [51.1472296956195, 244.34021413379773]\n"
     ]
    }
   ],
   "source": [
    "new = flock.positions.T\n",
    "for i, x in enumerate(new.tolist()):\n",
    "    print i, x"
   ]
  },
  {
   "cell_type": "code",
   "execution_count": 52,
   "metadata": {
    "collapsed": false
   },
   "outputs": [
    {
     "data": {
      "text/plain": [
       "[1, 2, 3, 4]"
      ]
     },
     "execution_count": 52,
     "metadata": {},
     "output_type": "execute_result"
    }
   ],
   "source": [
    "[1,2]+[3,4]"
   ]
  },
  {
   "cell_type": "code",
   "execution_count": null,
   "metadata": {
    "collapsed": false
   },
   "outputs": [],
   "source": []
  },
  {
   "cell_type": "code",
   "execution_count": 71,
   "metadata": {
    "collapsed": false
   },
   "outputs": [],
   "source": [
    "flock = Flock()\n",
    "flock.displacements_and_distances()\n",
    "transpose_positions = flock.positions.T\n",
    "for i, pos_i in enumerate(transpose_positions.tolist()):\n",
    "    for j, pos_j in enumerate(transpose_positions.tolist()):\n",
    "        displacement_check = np.array(pos_j) - np.array(pos_i)\n",
    "        assert_true(np.all(flock.displacements[:, i, j] == displacement_check))\n",
    "        assert_true(flock.square_distances[i, j] == np.sum(displacement_check**2))"
   ]
  },
  {
   "cell_type": "code",
   "execution_count": 67,
   "metadata": {
    "collapsed": true
   },
   "outputs": [],
   "source": []
  },
  {
   "cell_type": "code",
   "execution_count": null,
   "metadata": {
    "collapsed": true
   },
   "outputs": [],
   "source": []
  }
 ],
 "metadata": {
  "kernelspec": {
   "display_name": "Python 2",
   "language": "python",
   "name": "python2"
  },
  "language_info": {
   "codemirror_mode": {
    "name": "ipython",
    "version": 2
   },
   "file_extension": ".py",
   "mimetype": "text/x-python",
   "name": "python",
   "nbconvert_exporter": "python",
   "pygments_lexer": "ipython2",
   "version": "2.7.10"
  }
 },
 "nbformat": 4,
 "nbformat_minor": 0
}
